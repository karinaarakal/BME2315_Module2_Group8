{
 "cells": [
  {
   "cell_type": "markdown",
   "id": "07d08828-39be-453d-9c15-7d0737ceb72f",
   "metadata": {},
   "source": [
    "## Module_2: *(Template)*\n",
    "\n",
    "## Team Members:\n",
    "*Trey, Karinna*\n",
    "\n",
    "## Project Title:\n",
    "*Quantifiying and Predicting Lung Fibrosis Across Tissue Depths*\n",
    "\n"
   ]
  },
  {
   "cell_type": "markdown",
   "id": "8372d796-186a-4ae2-9b4f-0065979e555a",
   "metadata": {},
   "source": [
    "## Project Goal:\n",
    "This project seeks to determine how the extent of lung fibrosis changes with depth within a fibrotic lung and to devlop an image analysis method that quantifies fibrosis across lung biopsy images."
   ]
  },
  {
   "attachments": {},
   "cell_type": "markdown",
   "id": "91408b75-185a-4d66-9ce7-7c7aabbde5e1",
   "metadata": {},
   "source": [
    "## Disease Background: \n",
    "*Fill in information and please note that this module is truncated and only has 5 bullets (instead of the 11 that you did for Module #1).*\n",
    "\n",
    "* Prevalence & incidence\n",
    "    - Annual incidence of IPF in the USA is estimated at 6.8 to 8.8 per 100,000 and up to 16.3 to 17.4 per 100,0000 with a broader definition https://pmc.ncbi.nlm.nih.gov/articles/PMC9487229\n",
    "    - Incidence rate of IPF was 13.2-26.1/100,000 \n",
    "    https://journal.chestnet.org/article/S0012-3692(24)02766-1/fulltext\n",
    "* Risk factors (genetic, lifestyle)\n",
    "    - Approximately 10-20% of IPF cases are familial\n",
    "    - There are associated variants in genes like MUC5B, TERT, TERC, surfactant genes, and telomere maintaince genes\n",
    "    https://emedicine.medscape.com/article/301226-overview\n",
    "    - Incidence of IPF increases dramatically with age, typically around 50-70 years\n",
    "    - Men are affected more frequently\n",
    "    - mdpi.com/1422-0067/22/11/6107\n",
    "    - Smoking, chronic dustinhalation, and occupational exposures increase risk\n",
    "    https://www.cdc.gov/mmwr/volumes/74/wr/mm7407a1.htm?\n",
    "* Symptoms\n",
    "    -shortness of breath\n",
    "    - dry cough\n",
    "    - extreme tiredness\n",
    "    - unintentional weight loss\n",
    "    - aching muscles and joints\n",
    "    - clubbing of toes and fingers\n",
    "    https://www.mayoclinic.org/diseases-conditions/pulmonary-fibrosis/symptoms-causes/syc-20353690\n",
    "* Standard of care treatment(s)\n",
    "* Biological mechanisms (anatomy, organ physiology, cell & molecular physiology)"
   ]
  },
  {
   "cell_type": "markdown",
   "id": "3b99aefb-cb03-4bd8-b972-437eb0e02dfe",
   "metadata": {},
   "source": [
    "## Data-Set: \n",
    "*The dataset analyzed in this project consists of 78 graysclae histological images of bleomycin-induced fibrotic mouse lungs, each captured at different tissue depths ranging from 0-10,000 micrometers. These data were collected by administering bleomycin, a chemotherapeutic antibiotic known to cause IPF, to mice and subsequently, harvesting their lung tissue. The tissue was then sectioned and immunostained for proteins relevant to fibrosis, including desmin, alpha-smooth muscle actin, and CD-31. These stained sections were then imaged using high-resolution Aperio AT2 whole-slide imaging, producing graysclae images in which white regions correspond to fibrotic regions and black regions represent healthy lung tissues.  which investigates molecular\n",
    "\n",
    "\n",
    "(Describe the data set(s) you will analyze. Cite the source(s) of the data. Describe how the data was collected -- What techniques were used? What units are the data measured in? Etc.)*"
   ]
  },
  {
   "cell_type": "markdown",
   "id": "f4cde622-5508-4a54-aba8-77b454138bff",
   "metadata": {},
   "source": [
    "## Data Analyis: \n",
    "*(Describe how you analyzed the data. This is where you should intersperse your Python code so that anyone reading this can run your code to perform the analysis that you did, generate your figures, etc.)*"
   ]
  },
  {
   "cell_type": "markdown",
   "id": "5c67b6a4-ec94-4d28-b2a7-f6b860495118",
   "metadata": {},
   "source": [
    "## Verify and validate your analysis: \n",
    "*(Describe how you checked to see that your analysis gave you an answer that you believe (verify). Describe how your determined if your analysis gave you an answer that is supported by other evidence (e.g., a published paper).*"
   ]
  },
  {
   "cell_type": "markdown",
   "id": "2736cf95-2b93-444f-90c8-d40a54fc1df1",
   "metadata": {},
   "source": [
    "## Conclusions and Ethical Implications: \n",
    "*(Think about the answer your analysis generated, draw conclusions related to your overarching question, and discuss the ethical implications of your conclusions.*"
   ]
  },
  {
   "cell_type": "markdown",
   "id": "f023b735-6efb-43ed-a03d-eb4a9cdb734e",
   "metadata": {},
   "source": [
    "## Limitations and Future Work: \n",
    "*(Think about the answer your analysis generated, draw conclusions related to your overarching question, and discuss the ethical implications of your conclusions.*"
   ]
  },
  {
   "cell_type": "markdown",
   "id": "d9295960-2404-43dc-b46f-9a6f823f1657",
   "metadata": {},
   "source": [
    "## NOTES FROM YOUR TEAM: \n",
    "*This is where our team is taking notes and recording activity.*"
   ]
  },
  {
   "cell_type": "markdown",
   "id": "bd725b7f-9741-46b6-a213-9518da9201c3",
   "metadata": {},
   "source": [
    "## QUESTIONS FOR YOUR TA: \n",
    "Not sure about sources for the data-set"
   ]
  },
  {
   "cell_type": "code",
   "execution_count": null,
   "id": "0d0190cf-c056-4b2c-a0c0-a56dfb854a55",
   "metadata": {},
   "outputs": [],
   "source": []
  }
 ],
 "metadata": {
  "kernelspec": {
   "display_name": "Python [conda env:base] *",
   "language": "python",
   "name": "conda-base-py"
  },
  "language_info": {
   "codemirror_mode": {
    "name": "ipython",
    "version": 3
   },
   "file_extension": ".py",
   "mimetype": "text/x-python",
   "name": "python",
   "nbconvert_exporter": "python",
   "pygments_lexer": "ipython3",
   "version": "3.13.5"
  }
 },
 "nbformat": 4,
 "nbformat_minor": 5
}
